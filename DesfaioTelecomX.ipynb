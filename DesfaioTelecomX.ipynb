{
  "nbformat": 4,
  "nbformat_minor": 0,
  "metadata": {
    "colab": {
      "provenance": [],
      "authorship_tag": "ABX9TyMJAJPFKVClibVH69QfiC5l",
      "include_colab_link": true
    },
    "kernelspec": {
      "name": "python3",
      "display_name": "Python 3"
    },
    "language_info": {
      "name": "python"
    }
  },
  "cells": [
    {
      "cell_type": "markdown",
      "metadata": {
        "id": "view-in-github",
        "colab_type": "text"
      },
      "source": [
        "<a href=\"https://colab.research.google.com/github/filipenobre28/TelecomX/blob/main/DesfaioTelecomX.ipynb\" target=\"_parent\"><img src=\"https://colab.research.google.com/assets/colab-badge.svg\" alt=\"Open In Colab\"/></a>"
      ]
    },
    {
      "cell_type": "code",
      "execution_count": null,
      "metadata": {
        "id": "g46vdZs4HGAS"
      },
      "outputs": [],
      "source": [
        "import pandas as pd\n",
        "import json\n",
        "import numpy as np\n",
        "import matplotlib.pyplot as plt"
      ]
    },
    {
      "cell_type": "code",
      "source": [
        "dados_principal = ('/content/TelecomX_Data.json')"
      ],
      "metadata": {
        "id": "_s56CnYpHNSr"
      },
      "execution_count": null,
      "outputs": []
    },
    {
      "cell_type": "code",
      "source": [
        "dados_principal.fillna(0, inplace=True)"
      ],
      "metadata": {
        "id": "6Lzg9X2gdibN"
      },
      "execution_count": null,
      "outputs": []
    },
    {
      "cell_type": "code",
      "source": [
        "dados_principal = pd.read_json(dados_principal)"
      ],
      "metadata": {
        "id": "YO6UHr9BHQu4"
      },
      "execution_count": null,
      "outputs": []
    },
    {
      "cell_type": "code",
      "source": [
        "dados_principal.head()"
      ],
      "metadata": {
        "id": "qnyBIfUMHR-6"
      },
      "execution_count": null,
      "outputs": []
    },
    {
      "cell_type": "code",
      "source": [
        "dados_hashable = dados_principal.copy()\n",
        "\n",
        "for col in dados_hashable.columns:\n",
        "  if any(isinstance(x, ( dict, list)) for x in dados_hashable[col]):\n",
        "    dados_hashable[col] = dados_hashable[col].astype(str)\n",
        "\n"
      ],
      "metadata": {
        "id": "CCTDU8YEHUvA"
      },
      "execution_count": null,
      "outputs": []
    },
    {
      "cell_type": "code",
      "source": [
        "print(dados_principal.dtypes)"
      ],
      "metadata": {
        "id": "sVC53qseHVUJ"
      },
      "execution_count": null,
      "outputs": []
    },
    {
      "cell_type": "code",
      "source": [
        "dados_principal.head()"
      ],
      "metadata": {
        "id": "_AddX3pMHW7z"
      },
      "execution_count": null,
      "outputs": []
    },
    {
      "cell_type": "code",
      "source": [
        "print(f\"dados_principla: {dados_hashable.duplicated().sum()}\")"
      ],
      "metadata": {
        "id": "ZjSeTUrcHYhf"
      },
      "execution_count": null,
      "outputs": []
    },
    {
      "cell_type": "code",
      "source": [
        "!pip install ydata-profiling"
      ],
      "metadata": {
        "id": "OhzzNtgiHaC-"
      },
      "execution_count": null,
      "outputs": []
    },
    {
      "cell_type": "code",
      "source": [
        "from ydata_profiling import ProfileReport\n",
        "profile_report = ProfileReport(dados_principal)\n",
        "profile_report.to_file(\"relatorio.html\")"
      ],
      "metadata": {
        "id": "M43vZ3SDHbnU"
      },
      "execution_count": null,
      "outputs": []
    },
    {
      "cell_type": "code",
      "source": [
        "profile_report.to_notebook_iframe()"
      ],
      "metadata": {
        "id": "R5YqPNepHfnq"
      },
      "execution_count": null,
      "outputs": []
    },
    {
      "cell_type": "code",
      "source": [
        "dados_principal = dados_principal.drop(columns=['customerID'])"
      ],
      "metadata": {
        "id": "VI4-3qlXHhCA"
      },
      "execution_count": null,
      "outputs": []
    },
    {
      "cell_type": "code",
      "source": [
        "import json\n",
        "\n",
        "\n",
        "def parse_phone(x):\n",
        "  if isinstance(x, str):\n",
        "    try:\n",
        "        return json.loads(x.replace(\"'\", \"\\\"\"))\n",
        "    except json.JSONDecodeError:\n",
        "          return None\n",
        "  elif isinstance(x, dict):\n",
        "        return x\n",
        "  return None\n",
        "\n",
        "\n",
        "\n",
        "dados_principal['phone'] = dados_principal['phone'].apply(parse_phone)\n",
        "phone_desaninhado = pd.json_normalize(dados_principal['phone'])\n",
        "dados_principal = pd.concat([dados_principal, phone_desaninhado], axis=1)\n",
        "dados_principal = dados_principal.drop(columns=['phone'])"
      ],
      "metadata": {
        "id": "8gWnNIh4HoKc"
      },
      "execution_count": null,
      "outputs": []
    },
    {
      "cell_type": "code",
      "source": [
        "def parse_phone(x):\n",
        "    if isinstance(x, str):\n",
        "        try:\n",
        "            return json.loads(x.replace(\"'\", \"\\\"\"))\n",
        "        except json.JSONDecodeError:\n",
        "            return None\n",
        "    elif isinstance(x, dict):\n",
        "        return x\n",
        "    return None\n",
        "\n",
        "dados_principal['internet'] = dados_principal['internet'].apply(parse_phone)\n",
        "\n",
        "phone_desaninhado = pd.json_normalize(dados_principal['internet'])\n",
        "dados_principal = pd.concat([dados_principal.drop('internet', axis=1), phone_desaninhado], axis=1)"
      ],
      "metadata": {
        "id": "cVHl1ZCKHpOj"
      },
      "execution_count": null,
      "outputs": []
    },
    {
      "cell_type": "code",
      "source": [
        "def parse_phone(x):\n",
        "    if isinstance(x, str):\n",
        "        try:\n",
        "            return json.loads(x.replace(\"'\", \"\\\"\"))\n",
        "        except json.JSONDecodeError:\n",
        "            return None\n",
        "    elif isinstance(x, dict):\n",
        "        return x\n",
        "    return None\n",
        "\n",
        "\n",
        "dados_principal['account'] = dados_principal['account'].apply(parse_phone)\n",
        "\n",
        "\n",
        "phone_desaninhado = pd.json_normalize(dados_principal['account'])\n",
        "dados_principal = pd.concat([dados_principal.drop('account', axis=1), phone_desaninhado], axis=1)"
      ],
      "metadata": {
        "id": "014X9JdbHqbO"
      },
      "execution_count": null,
      "outputs": []
    },
    {
      "cell_type": "code",
      "source": [
        "dados_principal.head()"
      ],
      "metadata": {
        "id": "ZJ0RjlstHrcP"
      },
      "execution_count": null,
      "outputs": []
    },
    {
      "cell_type": "code",
      "source": [
        "profile = ProfileReport(dados_principal, title=\"Ratorio dos dados\")\n",
        "profile.to_notebook_iframe()"
      ],
      "metadata": {
        "id": "U8SiUMgsHstK"
      },
      "execution_count": null,
      "outputs": []
    },
    {
      "cell_type": "code",
      "source": [
        "for col in dados_principal.columns:\n",
        "  if dados_principal[col].apply(lambda x: isinstance(x, dict,)).any():\n",
        "    print(f\"Coluna '{col}' Contem dicionario \")"
      ],
      "metadata": {
        "id": "Dmt8sLJVHuZE"
      },
      "execution_count": null,
      "outputs": []
    },
    {
      "cell_type": "code",
      "source": [
        "print(dados_principal.dtypes)"
      ],
      "metadata": {
        "id": "RGgzeK-8HzT9"
      },
      "execution_count": null,
      "outputs": []
    },
    {
      "cell_type": "code",
      "source": [
        "customer_expandido = dados_principal['customer'].apply(pd.Series)\n",
        "customer_expandido = customer_expandido.add_prefix('customer_')\n",
        "\n",
        "dados_principal = dados_principal.drop(columns=['customer'] )\n",
        "dados_principal = pd.concat([dados_principal, customer_expandido], axis=1)\n"
      ],
      "metadata": {
        "id": "nu1PLPNAH0Ct"
      },
      "execution_count": null,
      "outputs": []
    },
    {
      "cell_type": "code",
      "source": [
        "dados_limpo = dados_principal.drop_duplicates()\n",
        "print(f\"Total de apos limpeza: {len(dados_limpo)}\")"
      ],
      "metadata": {
        "id": "-RYs_qkdH12x"
      },
      "execution_count": null,
      "outputs": []
    },
    {
      "cell_type": "code",
      "source": [
        "dados_principal = dados_principal.loc[:, ~dados_principal.columns.duplicated()]"
      ],
      "metadata": {
        "id": "nWYZotVoH3Xa"
      },
      "execution_count": null,
      "outputs": []
    },
    {
      "cell_type": "code",
      "source": [
        "dados_principal.head()"
      ],
      "metadata": {
        "id": "JJlgMdvHH4wD"
      },
      "execution_count": null,
      "outputs": []
    },
    {
      "cell_type": "code",
      "source": [
        "colunas_binarias = ['Churn', 'customer_Partner', 'customer_Dependents', 'PhoneService',\n",
        "                    'MultipleLines', 'OnlineSecurity', 'OnlineBackup', 'DeviceProtection',\n",
        "                    'TechSupport', 'StreamingTV', 'StreamingMovies', 'PaperlessBilling']\n",
        "dados_principal[colunas_binarias] = dados_principal[colunas_binarias].replace({'Yes' : 1, 'No' : 0})"
      ],
      "metadata": {
        "id": "ykOBn5f_H6EX"
      },
      "execution_count": null,
      "outputs": []
    },
    {
      "cell_type": "code",
      "source": [
        "dados_principal.head()"
      ],
      "metadata": {
        "id": "RT2lV4uLH7Ia"
      },
      "execution_count": null,
      "outputs": []
    },
    {
      "cell_type": "code",
      "source": [
        "colunas_pt = {\n",
        "    'Churn': 'Evasao',\n",
        "    'PhoneService': 'Servico_Telefone',\n",
        "    'MultipleLines': 'Multiplas_Linhas',\n",
        "    'InternetService': 'Tipo_Internet',\n",
        "    'OnlineSecurity': 'Seguranca_Online',\n",
        "    'OnlineBackup': 'Backup_Online',\n",
        "    'DeviceProtection': 'Protecao_Dispositivo',\n",
        "    'TechSupport': 'Suporte_Tecnico',\n",
        "    'StreamingTV': 'Streaming_TV',\n",
        "    'StreamingMovies': 'Streaming_Filmes',\n",
        "    'Contract': 'Tipo_Contrato',\n",
        "    'PaperlessBilling': 'Fatura_Digital',\n",
        "    'PaymentMethod': 'Metodo_Pagamento',\n",
        "    'Charges.Monthly': 'Cobranca_Mensal',\n",
        "    'Charges.Total': 'Cobranca_Total',\n",
        "    'customer_gender': 'Genero',\n",
        "    'customer_SeniorCitizen': 'Idoso',\n",
        "    'customer_Partner': 'Possui_Conjuge',\n",
        "    'customer_Dependents': 'Possui_Dependentes',\n",
        "    'customer_tenure': 'Meses_Contrato'\n",
        "}\n",
        "\n",
        "dados_principal = dados_principal.rename(columns=colunas_pt)\n",
        "\n",
        "print(\"Colunas renomeadas:\")\n",
        "print(dados_principal.columns)\n"
      ],
      "metadata": {
        "id": "IsPAjIe9H9fr"
      },
      "execution_count": null,
      "outputs": []
    },
    {
      "cell_type": "code",
      "source": [
        "descricao_numerica = dados_principal.describe().T[['min', 'max', 'std', 'mean', '25%', '50%', '75%', 'count']]\n",
        "\n",
        "descricao_numerica = descricao_numerica.rename(columns={'50%' :  'Mediana', 'min' : 'Minimo', 'max': 'Maximo', 'std' : 'Desvio Padrao', 'mean' : 'Media',  '25%' : 'Primeiro Quartil',\n",
        "'75%' : 'Terceiro Quartil', 'count' : 'Contagem' })\n",
        "print('Estatistica numericas: ')\n",
        "print(descricao_numerica)"
      ],
      "metadata": {
        "id": "073Kb5B5H-hI"
      },
      "execution_count": null,
      "outputs": []
    },
    {
      "cell_type": "code",
      "source": [
        "print(dados_principal.dtypes)"
      ],
      "metadata": {
        "id": "Q4VSq0_bH_wT"
      },
      "execution_count": null,
      "outputs": []
    },
    {
      "cell_type": "code",
      "source": [
        "print(dados_principal.columns)"
      ],
      "metadata": {
        "id": "JwvrS_ruIA4m"
      },
      "execution_count": null,
      "outputs": []
    },
    {
      "cell_type": "code",
      "source": [
        "!pip install kaleido"
      ],
      "metadata": {
        "id": "X3tbiBK6Jxd7"
      },
      "execution_count": null,
      "outputs": []
    },
    {
      "cell_type": "code",
      "source": [
        "import pandas as pd\n",
        "import plotly.express as px\n",
        "from IPython.display import display, Image, HTML\n",
        "\n",
        "proporcao_evasao = dados_principal['Evasao'].value_counts(normalize=True)\n",
        "\n",
        "labels_map = {1: 'Evasão', 0: 'Permaneceu'}\n",
        "\n",
        "fig = px.pie(\n",
        "    names=proporcao_evasao.index.map(labels_map),\n",
        "    values=proporcao_evasao.values,\n",
        "    title='📉 Proporção de Clientes por Evasão',\n",
        "    hole=0.3,\n",
        "    color_discrete_sequence=['#ff6b6b', '#51cf66']\n",
        ")\n",
        "\n",
        "fig.update_traces(textinfo='percent+label')\n",
        "fig.update_layout(legend_title_text='Status do Cliente')\n",
        "\n",
        "fig.show()\n",
        "\n",
        "\n",
        "fig.write_image(\"proporcao_evasao.png\")"
      ],
      "metadata": {
        "id": "vPVLghzwINid"
      },
      "execution_count": null,
      "outputs": []
    },
    {
      "cell_type": "code",
      "source": [
        "df = dados_principal.copy()\n",
        "\n",
        "df['Evasao'] = df['Evasao'].map({1: 'Evadido', 0: 'Permaneceu'})\n",
        "df['Evasao'] = df['Evasao'].fillna('Desconhecido')\n",
        "\n",
        "variaveis_categoricas = ['Metodo_Pagamento', 'Tipo_Contrato', 'Idoso']\n",
        "nomes_colunas = {\n",
        "    'Metodo_Pagamento': 'Método de Pagamento',\n",
        "    'Tipo_Contrato': 'Tipo de Contrato',\n",
        "    'Idoso': 'Cliente Idoso'\n",
        "}\n",
        "\n",
        "mapa_cores = {\n",
        "    'Permaneceu': '#1f77b4',\n",
        "    'Evadido': '#ff7f0e',\n",
        "    'Desconhecido': '#cccccc'\n",
        "}\n",
        "\n",
        "for coluna in variaveis_categoricas:\n",
        "    df_plot = df.copy()\n",
        "    tabela_evasao = pd.crosstab(df_plot[coluna], df_plot['Evasao'], normalize='index') * 100\n",
        "\n",
        "    print(f\"\\nDistribuição de Evasão por {nomes_colunas.get(coluna, coluna)}:\")\n",
        "    print(tabela_evasao.to_markdown(numalign=\"left\", stralign=\"left\"))\n",
        "\n",
        "    tabela_evasao = tabela_evasao.reset_index()\n",
        "    colunas_evasao = [c for c in ['Permaneceu', 'Evadido', 'Desconhecido'] if c in tabela_evasao.columns]\n",
        "\n",
        "    df_melted = tabela_evasao.melt(\n",
        "        id_vars=[coluna],\n",
        "        value_vars=colunas_evasao,\n",
        "        var_name='Status de Evasão',\n",
        "        value_name='Proporção de Clientes (%)'\n",
        "    )\n",
        "\n",
        "    fig = px.bar(\n",
        "        df_melted,\n",
        "        x=coluna,\n",
        "        y='Proporção de Clientes (%)',\n",
        "        color='Status de Evasão',\n",
        "        title=f'📊 Proporção de Evasão por {nomes_colunas.get(coluna, coluna)}',\n",
        "        labels={\n",
        "            coluna: nomes_colunas.get(coluna, coluna),\n",
        "            'Proporção de Clientes (%)': 'Proporção (%)'\n",
        "        },\n",
        "        barmode='stack',\n",
        "        color_discrete_map=mapa_cores,\n",
        "        category_orders={\"Status de Evasão\": ['Permaneceu', 'Desconhecido', 'Evadido']}\n",
        "    )\n",
        "\n",
        "    fig.update_layout(legend_title_text='Status do Cliente')\n",
        "\n",
        "\n",
        "    fig.show()\n",
        "\n",
        "    nome_arquivo = f\"evasao_por_{coluna.lower()}.png\"\n",
        "    fig.write_image(nome_arquivo, scale=2)\n",
        "    print(f\"Gráfico salvo como: {nome_arquivo}\")"
      ],
      "metadata": {
        "id": "Ywz1idv4ICAL"
      },
      "execution_count": null,
      "outputs": []
    },
    {
      "cell_type": "markdown",
      "source": [
        "-----\n",
        "\n",
        "# Relatório Resumido de Análise de Evasão de Clientes\n",
        "\n",
        "## Introdução\n",
        "\n",
        "Este relatório apresenta uma análise concisa do fenômeno da **evasão de clientes (Churn)** em uma empresa de telecomunicações. O objetivo principal é identificar os fatores-chave que impulsionam a saída de clientes e oferecer recomendações estratégicas para melhorar a retenção.\n",
        "\n",
        "-----\n",
        "\n",
        "## Processamento de Dados\n",
        "\n",
        "Os dados foram importados de um arquivo JSON e submetidos a um processo de limpeza e transformação. As principais etapas incluíram:\n",
        "\n",
        "  * **Desaninhamento de colunas JSON:** Informações aninhadas em \"phone\", \"internet\", \"account\" e \"customer\" foram extraídas e transformadas em colunas independentes para facilitar a análise.\n",
        "  * **Padronização de dados:** Valores binários ('Yes'/'No') foram convertidos para 1 e 0.\n",
        "  * **Renomeação de colunas:** As colunas foram renomeadas para o português, tornando o dataset mais intuitivo (ex: 'Churn' para 'Evasao', 'customer\\_gender' para 'Genero').\n",
        "\n",
        "-----\n",
        "\n",
        "## Principais Descobertas e Insights\n",
        "\n",
        "A análise exploratória dos dados revelou padrões importantes:\n",
        "\n",
        " **Taxa de Evasão:** A empresa enfrenta uma taxa de evasão de 26.54%, o que é um desafio considerável.\n",
        "\n",
        "\n",
        "\n",
        "**Impacto do Método de Pagamento:** Clientes que utilizam Cheque Eletrônico apresentam a maior taxa de evasão (45.18%), muito superior aos outros métodos. Isso sugere problemas específicos com essa forma de pagamento.\n",
        "\n",
        "\n",
        "\n",
        "**Influência do Tipo de Contrato:** Existe uma forte correlação entre o tipo de contrato e a evasão. Clientes com contratos mensais ('Month-to-month') têm uma taxa de evasão significativamente alta (42.71%), enquanto contratos de um ou dois anos demonstram maior lealdade (11.26% e 2.84% de evasão, respectivamente).\n",
        "\n",
        "\n",
        "\n",
        "**Perfil do Cliente Idoso:** Clientes idosos apresentam uma taxa de evasão mais elevada (41.89%) em comparação com clientes não idosos (23.61%), indicando que esse grupo pode ter necessidades ou desafios específicos não atendidos.\n",
        "\n",
        "\n",
        "\n",
        "-----\n",
        "\n",
        "## Recomendações\n",
        "\n",
        "Com base nas descobertas, recomendamos as seguintes ações:\n",
        "\n",
        "1.  **Reavaliar o Cheque Eletrônico:** Investigar e aprimorar a experiência de pagamento via Cheque Eletrônico, ou incentivar a migração para métodos mais estáveis, talvez com pequenos incentivos.\n",
        "2.  **Incentivar Contratos de Longo Prazo:** Criar e promover programas de fidelidade e ofertas exclusivas para clientes que optam por contratos de um ou dois anos.\n",
        "3.  **Atenção aos Clientes Idosos:** Desenvolver estratégias de suporte e comunicação adaptadas para clientes idosos, como suporte técnico simplificado ou materiais educativos focados em suas necessidades.\n",
        "4.  **Monitoramento Contínuo:** Manter um acompanhamento constante das taxas de evasão e dos fatores de risco para ajustar as estratégias proativamente.\n",
        "\n",
        "Ao focar nesses pontos, a empresa pode reduzir significativamente a taxa de churn e melhorar a satisfação e lealdade dos clientes.\n",
        "\n",
        "\n",
        "-----"
      ],
      "metadata": {
        "id": "tVh5cEfOMF1u"
      }
    },
    {
      "cell_type": "code",
      "source": [
        "dados_principal.to_json('Desafio_telecom.json', index=False)"
      ],
      "metadata": {
        "id": "ldm_ZMVFwyf8"
      },
      "execution_count": null,
      "outputs": []
    },
    {
      "cell_type": "code",
      "source": [
        "dados_principal.to_csv('Desafio_telecom.csv', index=False)"
      ],
      "metadata": {
        "id": "XVgVOQkpTqiK"
      },
      "execution_count": null,
      "outputs": []
    }
  ]
}